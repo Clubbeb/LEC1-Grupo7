{
 "cells": [
  {
   "cell_type": "code",
   "execution_count": 5,
   "id": "abbc7305",
   "metadata": {
    "scrolled": true,
    "vscode": {
     "languageId": "plaintext"
    }
   },
   "outputs": [],
   "source": [
    "import pandas as pd\n",
    "import seaborn as sns\n",
    "import matplotlib.pyplot as plt"
   ]
  },
  {
   "cell_type": "markdown",
   "id": "651d60b9",
   "metadata": {},
   "source": [
    "Cargar dataset desde el directorio actual"
   ]
  },
  {
   "cell_type": "code",
   "execution_count": null,
   "id": "f14a75b4",
   "metadata": {
    "vscode": {
     "languageId": "plaintext"
    }
   },
   "outputs": [],
   "source": [
    "df = pd.read_csv(\"ai_job_trends_dataset.csv\")\n",
    "print(\"--- Vista previa inicial ---\")\n",
    "print(df.head())"
   ]
  },
  {
   "cell_type": "code",
   "execution_count": null,
   "id": "2a1e7360",
   "metadata": {
    "vscode": {
     "languageId": "plaintext"
    }
   },
   "outputs": [],
   "source": [
    "print(\"--- Información inicial del dataset ---\")\n",
    "print(df.info())\n",
    "print(\"\\nValores faltantes por columna:\")\n",
    "print(df.isnull().sum())"
   ]
  },
  {
   "cell_type": "markdown",
   "id": "b75cbeda",
   "metadata": {},
   "source": [
    "1. Tratar valores faltantes"
   ]
  },
  {
   "cell_type": "code",
   "execution_count": null,
   "id": "3614353c",
   "metadata": {
    "vscode": {
     "languageId": "plaintext"
    }
   },
   "outputs": [],
   "source": [
    "for col in df.columns:\n",
    "    if df[col].dtype in ['int64', 'float64']:\n",
    "        df[col] = df[col].fillna(df[col].median())\n",
    "    else:\n",
    "        df[col] = df[col].fillna(df[col].mode()[0])"
   ]
  },
  {
   "cell_type": "markdown",
   "id": "a60ee24b",
   "metadata": {},
   "source": [
    "2. Normalizar texto en columnas categóricas"
   ]
  },
  {
   "cell_type": "code",
   "execution_count": null,
   "id": "69c4bf67",
   "metadata": {
    "vscode": {
     "languageId": "plaintext"
    }
   },
   "outputs": [],
   "source": [
    "for col in df.select_dtypes(include=['object']).columns:\n",
    "    df[col] = df[col].astype(str).str.strip().str.lower()"
   ]
  },
  {
   "cell_type": "markdown",
   "id": "3bdfb0cf",
   "metadata": {},
   "source": [
    "3. Eliminar duplicados"
   ]
  },
  {
   "cell_type": "code",
   "execution_count": null,
   "id": "7bfa06e9",
   "metadata": {
    "vscode": {
     "languageId": "plaintext"
    }
   },
   "outputs": [],
   "source": [
    "df = df.drop_duplicates()"
   ]
  },
  {
   "cell_type": "markdown",
   "id": "35ac6f97",
   "metadata": {},
   "source": [
    "4. Detectar y recortar valores fuera de rango en columnas de %"
   ]
  },
  {
   "cell_type": "code",
   "execution_count": null,
   "id": "9120f1de",
   "metadata": {
    "vscode": {
     "languageId": "plaintext"
    }
   },
   "outputs": [],
   "source": [
    "if 'gender diversity ratio (%)' in df.columns:\n",
    "    df = df[(df['gender diversity ratio (%)'] >= 0) & (df['gender diversity ratio (%)'] <= 100)]\n",
    "if 'remote work ratio (%)' in df.columns:\n",
    "    df = df[(df['remote work ratio (%)'] >= 0) & (df['remote work ratio (%)'] <= 100)]\n",
    "if 'automation risk (%)' in df.columns:\n",
    "    df = df[(df['automation risk (%)'] >= 0) & (df['automation risk (%)'] <= 100)]"
   ]
  },
  {
   "cell_type": "code",
   "execution_count": null,
   "id": "7da6e446",
   "metadata": {
    "vscode": {
     "languageId": "plaintext"
    }
   },
   "outputs": [],
   "source": [
    "print(\"--- Información después de limpieza ---\")\n",
    "print(df.info())"
   ]
  },
  {
   "cell_type": "markdown",
   "id": "91f4fa3d",
   "metadata": {},
   "source": [
    "Guardar dataset limpio"
   ]
  },
  {
   "cell_type": "code",
   "execution_count": null,
   "id": "e5d7dad2",
   "metadata": {
    "vscode": {
     "languageId": "plaintext"
    }
   },
   "outputs": [],
   "source": [
    "df.to_csv(\"ai_job_trends_dataset_clean.csv\", index=False)\n",
    "print(\"Dataset limpio guardado en: ai_job_trends_dataset_clean.csv\")"
   ]
  }
 ],
 "metadata": {
  "kernelspec": {
   "display_name": "Python 3 (ipykernel)",
   "language": "python",
   "name": "python3"
  },
  "language_info": {
   "codemirror_mode": {
    "name": "ipython",
    "version": 3
   },
   "file_extension": ".py",
   "mimetype": "text/x-python",
   "name": "python",
   "nbconvert_exporter": "python",
   "pygments_lexer": "ipython3",
   "version": "3.12.1"
  }
 },
 "nbformat": 4,
 "nbformat_minor": 5
}
