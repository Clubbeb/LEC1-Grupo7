{
 "cells": [
  {
   "cell_type": "code",
   "execution_count": 11,
   "id": "abbc7305",
   "metadata": {
    "scrolled": true,
    "vscode": {
     "languageId": "plaintext"
    }
   },
   "outputs": [],
   "source": [
    "import pandas as pd\n",
    "import seaborn as sns\n",
    "import matplotlib.pyplot as plt"
   ]
  },
  {
   "cell_type": "code",
   "execution_count": 12,
   "id": "f14a75b4",
   "metadata": {
    "vscode": {
     "languageId": "plaintext"
    }
   },
   "outputs": [
    {
     "name": "stdout",
     "output_type": "stream",
     "text": [
      "--- Vista previa inicial ---\n",
      "  country_name country_id  year  Inflation (CPI %)  GDP (Current USD)  \\\n",
      "0        Aruba         aw  2010           2.078141       2.453597e+09   \n",
      "1        Aruba         aw  2011           4.316297       2.637859e+09   \n",
      "2        Aruba         aw  2012           0.627472       2.615208e+09   \n",
      "3        Aruba         aw  2013          -2.372065       2.727850e+09   \n",
      "4        Aruba         aw  2014           0.421441       2.790850e+09   \n",
      "\n",
      "   GDP per Capita (Current USD)  Unemployment Rate (%)  \\\n",
      "0                  24093.140151                    NaN   \n",
      "1                  25712.384302                    NaN   \n",
      "2                  25119.665545                    NaN   \n",
      "3                  25813.576727                    NaN   \n",
      "4                  26129.839062                    NaN   \n",
      "\n",
      "   Interest Rate (Real, %)  Inflation (GDP Deflator, %)  \\\n",
      "0                11.666131                    -1.223407   \n",
      "1                 4.801974                     4.005674   \n",
      "2                 8.200875                     0.184033   \n",
      "3                10.709709                    -1.995948   \n",
      "4                 3.213869                     3.958897   \n",
      "\n",
      "   GDP Growth (% Annual)  Current Account Balance (% GDP)  \\\n",
      "0              -2.733457                       -18.752537   \n",
      "1               3.369237                        -9.877656   \n",
      "2              -1.040800                         3.473451   \n",
      "3               6.431483                       -11.813206   \n",
      "4              -1.586575                        -4.658577   \n",
      "\n",
      "   Government Expense (% of GDP)  Government Revenue (% of GDP)  \\\n",
      "0                            NaN                            NaN   \n",
      "1                            NaN                            NaN   \n",
      "2                            NaN                            NaN   \n",
      "3                            NaN                            NaN   \n",
      "4                            NaN                            NaN   \n",
      "\n",
      "   Tax Revenue (% of GDP)  Gross National Income (USD)  Public Debt (% of GDP)  \n",
      "0                     NaN                 2.313385e+09                     NaN  \n",
      "1                     NaN                 2.391841e+09                     NaN  \n",
      "2                     NaN                 2.499118e+09                     NaN  \n",
      "3                     NaN                 2.563517e+09                     NaN  \n",
      "4                     NaN                 2.688102e+09                     NaN  \n"
     ]
    }
   ],
   "source": [
    "df = pd.read_csv(\"world_bank_data_2025.csv\")\n",
    "print(\"--- Vista previa inicial ---\")\n",
    "print(df.head())"
   ]
  },
  {
   "cell_type": "code",
   "execution_count": 13,
   "id": "2a1e7360",
   "metadata": {
    "vscode": {
     "languageId": "plaintext"
    }
   },
   "outputs": [
    {
     "name": "stdout",
     "output_type": "stream",
     "text": [
      "--- Información inicial del dataset ---\n",
      "<class 'pandas.core.frame.DataFrame'>\n",
      "RangeIndex: 3472 entries, 0 to 3471\n",
      "Data columns (total 16 columns):\n",
      " #   Column                           Non-Null Count  Dtype  \n",
      "---  ------                           --------------  -----  \n",
      " 0   country_name                     3472 non-null   object \n",
      " 1   country_id                       3472 non-null   object \n",
      " 2   year                             3472 non-null   int64  \n",
      " 3   Inflation (CPI %)                2694 non-null   float64\n",
      " 4   GDP (Current USD)                2933 non-null   float64\n",
      " 5   GDP per Capita (Current USD)     2938 non-null   float64\n",
      " 6   Unemployment Rate (%)            2795 non-null   float64\n",
      " 7   Interest Rate (Real, %)          1735 non-null   float64\n",
      " 8   Inflation (GDP Deflator, %)      2904 non-null   float64\n",
      " 9   GDP Growth (% Annual)            2912 non-null   float64\n",
      " 10  Current Account Balance (% GDP)  2563 non-null   float64\n",
      " 11  Government Expense (% of GDP)    1820 non-null   float64\n",
      " 12  Government Revenue (% of GDP)    1829 non-null   float64\n",
      " 13  Tax Revenue (% of GDP)           1833 non-null   float64\n",
      " 14  Gross National Income (USD)      2796 non-null   float64\n",
      " 15  Public Debt (% of GDP)           852 non-null    float64\n",
      "dtypes: float64(13), int64(1), object(2)\n",
      "memory usage: 434.1+ KB\n",
      "None\n",
      "\n",
      "Valores faltantes por columna:\n",
      "country_name                          0\n",
      "country_id                            0\n",
      "year                                  0\n",
      "Inflation (CPI %)                   778\n",
      "GDP (Current USD)                   539\n",
      "GDP per Capita (Current USD)        534\n",
      "Unemployment Rate (%)               677\n",
      "Interest Rate (Real, %)            1737\n",
      "Inflation (GDP Deflator, %)         568\n",
      "GDP Growth (% Annual)               560\n",
      "Current Account Balance (% GDP)     909\n",
      "Government Expense (% of GDP)      1652\n",
      "Government Revenue (% of GDP)      1643\n",
      "Tax Revenue (% of GDP)             1639\n",
      "Gross National Income (USD)         676\n",
      "Public Debt (% of GDP)             2620\n",
      "dtype: int64\n"
     ]
    }
   ],
   "source": [
    "print(\"--- Información inicial del dataset ---\")\n",
    "print(df.info())\n",
    "print(\"\\nValores faltantes por columna:\")\n",
    "print(df.isnull().sum())"
   ]
  },
  {
   "cell_type": "markdown",
   "id": "b75cbeda",
   "metadata": {},
   "source": [
    "1. Tratar valores faltantes"
   ]
  },
  {
   "cell_type": "code",
   "execution_count": 14,
   "id": "3614353c",
   "metadata": {
    "vscode": {
     "languageId": "plaintext"
    }
   },
   "outputs": [],
   "source": [
    "for col in df.columns:\n",
    "    if df[col].dtype in ['int64', 'float64']:\n",
    "        df[col] = df[col].fillna(df[col].median())\n",
    "    else:\n",
    "        df[col] = df[col].fillna(df[col].mode()[0])"
   ]
  },
  {
   "cell_type": "markdown",
   "id": "a60ee24b",
   "metadata": {},
   "source": [
    "2. Normalizar texto en columnas categóricas"
   ]
  },
  {
   "cell_type": "code",
   "execution_count": 15,
   "id": "69c4bf67",
   "metadata": {
    "vscode": {
     "languageId": "plaintext"
    }
   },
   "outputs": [],
   "source": [
    "for col in df.select_dtypes(include=['object']).columns:\n",
    "    df[col] = df[col].astype(str).str.strip().str.lower()"
   ]
  },
  {
   "cell_type": "markdown",
   "id": "3bdfb0cf",
   "metadata": {},
   "source": [
    "3. Eliminar duplicados"
   ]
  },
  {
   "cell_type": "code",
   "execution_count": 16,
   "id": "7bfa06e9",
   "metadata": {
    "vscode": {
     "languageId": "plaintext"
    }
   },
   "outputs": [],
   "source": [
    "df = df.drop_duplicates()"
   ]
  },
  {
   "cell_type": "markdown",
   "id": "35ac6f97",
   "metadata": {},
   "source": [
    "4. Detectar y recortar valores fuera de rango en columnas de %"
   ]
  },
  {
   "cell_type": "code",
   "execution_count": 17,
   "id": "9120f1de",
   "metadata": {
    "vscode": {
     "languageId": "plaintext"
    }
   },
   "outputs": [],
   "source": [
    "if 'gender diversity ratio (%)' in df.columns:\n",
    "    df = df[(df['gender diversity ratio (%)'] >= 0) & (df['gender diversity ratio (%)'] <= 100)]\n",
    "if 'remote work ratio (%)' in df.columns:\n",
    "    df = df[(df['remote work ratio (%)'] >= 0) & (df['remote work ratio (%)'] <= 100)]\n",
    "if 'automation risk (%)' in df.columns:\n",
    "    df = df[(df['automation risk (%)'] >= 0) & (df['automation risk (%)'] <= 100)]"
   ]
  },
  {
   "cell_type": "code",
   "execution_count": 18,
   "id": "7da6e446",
   "metadata": {
    "vscode": {
     "languageId": "plaintext"
    }
   },
   "outputs": [
    {
     "name": "stdout",
     "output_type": "stream",
     "text": [
      "--- Información después de limpieza ---\n",
      "<class 'pandas.core.frame.DataFrame'>\n",
      "RangeIndex: 3472 entries, 0 to 3471\n",
      "Data columns (total 16 columns):\n",
      " #   Column                           Non-Null Count  Dtype  \n",
      "---  ------                           --------------  -----  \n",
      " 0   country_name                     3472 non-null   object \n",
      " 1   country_id                       3472 non-null   object \n",
      " 2   year                             3472 non-null   int64  \n",
      " 3   Inflation (CPI %)                3472 non-null   float64\n",
      " 4   GDP (Current USD)                3472 non-null   float64\n",
      " 5   GDP per Capita (Current USD)     3472 non-null   float64\n",
      " 6   Unemployment Rate (%)            3472 non-null   float64\n",
      " 7   Interest Rate (Real, %)          3472 non-null   float64\n",
      " 8   Inflation (GDP Deflator, %)      3472 non-null   float64\n",
      " 9   GDP Growth (% Annual)            3472 non-null   float64\n",
      " 10  Current Account Balance (% GDP)  3472 non-null   float64\n",
      " 11  Government Expense (% of GDP)    3472 non-null   float64\n",
      " 12  Government Revenue (% of GDP)    3472 non-null   float64\n",
      " 13  Tax Revenue (% of GDP)           3472 non-null   float64\n",
      " 14  Gross National Income (USD)      3472 non-null   float64\n",
      " 15  Public Debt (% of GDP)           3472 non-null   float64\n",
      "dtypes: float64(13), int64(1), object(2)\n",
      "memory usage: 434.1+ KB\n",
      "None\n"
     ]
    }
   ],
   "source": [
    "print(\"--- Información después de limpieza ---\")\n",
    "print(df.info())"
   ]
  },
  {
   "cell_type": "markdown",
   "id": "91f4fa3d",
   "metadata": {},
   "source": [
    "Guardar dataset limpio"
   ]
  },
  {
   "cell_type": "code",
   "execution_count": 20,
   "id": "e5d7dad2",
   "metadata": {
    "vscode": {
     "languageId": "plaintext"
    }
   },
   "outputs": [
    {
     "name": "stdout",
     "output_type": "stream",
     "text": [
      "Dataset limpio guardado en: world_bank_data_2025_clean.csv\n"
     ]
    }
   ],
   "source": [
    "df.to_csv(\"world_bank_data_2025_clean.csv\", index=False)\n",
    "print(\"Dataset limpio guardado en: world_bank_data_2025_clean.csv\")"
   ]
  },
  {
   "cell_type": "code",
   "execution_count": null,
   "id": "ae0448ac-8325-4633-b4fe-6ac8e5063d6e",
   "metadata": {},
   "outputs": [],
   "source": []
  }
 ],
 "metadata": {
  "kernelspec": {
   "display_name": "Python 3 (ipykernel)",
   "language": "python",
   "name": "python3"
  },
  "language_info": {
   "codemirror_mode": {
    "name": "ipython",
    "version": 3
   },
   "file_extension": ".py",
   "mimetype": "text/x-python",
   "name": "python",
   "nbconvert_exporter": "python",
   "pygments_lexer": "ipython3",
   "version": "3.12.1"
  }
 },
 "nbformat": 4,
 "nbformat_minor": 5
}
