{
 "cells": [
  {
   "cell_type": "code",
   "execution_count": null,
   "id": "a17e8565",
   "metadata": {
    "vscode": {
     "languageId": "plaintext"
    }
   },
   "outputs": [],
   "source": [
    "import pandas as pd\n",
    "import seaborn as sns\n",
    "import matplotlib.pyplot as plt\n"
   ]
  },
  {
   "cell_type": "markdown",
   "id": "01a9b9a6",
   "metadata": {},
   "source": [
    "Cambia \"data.csv\" por el nombre de tu archivo"
   ]
  },
  {
   "cell_type": "code",
   "execution_count": null,
   "id": "ad364f1d",
   "metadata": {
    "vscode": {
     "languageId": "plaintext"
    }
   },
   "outputs": [],
   "source": [
    "df = pd.read_csv(\"ai_job_trends_dataset.csv\")"
   ]
  },
  {
   "cell_type": "markdown",
   "id": "533a6fd3",
   "metadata": {},
   "source": [
    "Seleccionar solo columnas numéricas"
   ]
  },
  {
   "cell_type": "code",
   "execution_count": null,
   "id": "ccc8fa03",
   "metadata": {
    "vscode": {
     "languageId": "plaintext"
    }
   },
   "outputs": [],
   "source": [
    "numeric_df = df.select_dtypes(include=['int64', 'float64'])"
   ]
  },
  {
   "cell_type": "markdown",
   "id": "1b1eb63f",
   "metadata": {},
   "source": [
    "Calcular la matriz de correlación"
   ]
  },
  {
   "cell_type": "code",
   "execution_count": null,
   "id": "568f888d",
   "metadata": {
    "vscode": {
     "languageId": "plaintext"
    }
   },
   "outputs": [],
   "source": [
    "correlation_matrix = numeric_df.corr()"
   ]
  },
  {
   "cell_type": "markdown",
   "id": "c740cdaa",
   "metadata": {},
   "source": [
    "Mostrar la matriz en consola"
   ]
  },
  {
   "cell_type": "code",
   "execution_count": null,
   "id": "365e194b",
   "metadata": {
    "vscode": {
     "languageId": "plaintext"
    }
   },
   "outputs": [],
   "source": [
    "print(\"Matriz de correlación:\")\n",
    "print(correlation_matrix)"
   ]
  },
  {
   "cell_type": "markdown",
   "id": "98a64c02",
   "metadata": {},
   "source": [
    "Graficar heatmap"
   ]
  },
  {
   "cell_type": "code",
   "execution_count": null,
   "id": "6f65267b",
   "metadata": {
    "vscode": {
     "languageId": "plaintext"
    }
   },
   "outputs": [],
   "source": [
    "plt.figure(figsize=(10, 8))\n",
    "sns.heatmap(correlation_matrix, annot=True, cmap=\"coolwarm\", center=0, linewidths=0.5)\n",
    "plt.title(\"Matriz de correlación\")\n",
    "plt.show()"
   ]
  }
 ],
 "metadata": {
  "language_info": {
   "name": "python"
  }
 },
 "nbformat": 4,
 "nbformat_minor": 5
}
