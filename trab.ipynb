{
 "cells": [
  {
   "cell_type": "markdown",
   "id": "2aab75ba",
   "metadata": {},
   "source": [
    "# Laboratorio 1 - Análisis Exploratorio de Datos\n",
    "### Indicadores Macroeconómicos Mundiales\n",
    "\n",
    "Grupo 7:\n",
    "- Ariel Espinoza (202373060-2)\n",
    "- Martin García (202373068-8)\n",
    "- Williams Ajata (202204067-k)\n",
    "- Catalina Yañez (202273010-2)"
   ]
  },
  {
   "cell_type": "code",
   "execution_count": null,
   "id": "d7fbc69a",
   "metadata": {},
   "outputs": [],
   "source": [
    "import pandas as pd\n",
    "import matplotlib.pyplot as plt\n",
    "import seaborn as sns\n",
    "import numpy as np\n",
    "\n",
    "plt.style.use('default')\n",
    "plt.rcParams['font.family'] = 'DejaVu Sans'\n",
    "plt.rcParams['figure.figsize'] = (12, 8)"
   ]
  },
  {
   "cell_type": "markdown",
   "id": "9ea5110e",
   "metadata": {},
   "source": [
    "## 1. Carga y Contextualización del Dataset"
   ]
  },
  {
   "cell_type": "code",
   "execution_count": null,
   "id": "2d0ebb73",
   "metadata": {},
   "outputs": [],
   "source": [
    "df = pd.read_csv(\"world_bank_data_2025.csv\")\n",
    "df.head()"
   ]
  },
  {
   "cell_type": "markdown",
   "id": "3275d9b2",
   "metadata": {},
   "source": [
    "**Contexto del dataset**  \n",
    "- Contiene indicadores macroeconómicos de diversos países a lo largo de varios años.  \n",
    "- Fuente: Banco Mundial y otras fuentes internacionales.  \n",
    "- Motivación:  Nos intereso este dataset ya que es parte de la vida real y permite realizar un análisis de como los países se enfrentan a crisis o crecimiento económico, de esta forma podemos relacionar las variables y concluir las posibles causantes de estas.\n"
   ]
  },
  {
   "cell_type": "markdown",
   "id": "329bfe2d",
   "metadata": {},
   "source": [
    "## 2. Limpieza y Preparación de Datos"
   ]
  },
  {
   "cell_type": "markdown",
   "id": "c3d9bd4b-33c0-4ef9-b7d2-61c45f993705",
   "metadata": {},
   "source": [
    "**Información inicial del dataset**"
   ]
  },
  {
   "cell_type": "code",
   "execution_count": null,
   "id": "30d7b9ce-1407-4f52-af1d-6d7f74ce74d2",
   "metadata": {},
   "outputs": [],
   "source": [
    "print(df.info())"
   ]
  },
  {
   "cell_type": "markdown",
   "id": "b089f002-eb5d-4c41-92a1-f33da6f3e547",
   "metadata": {},
   "source": [
    "**Valores faltantes**"
   ]
  },
  {
   "cell_type": "code",
   "execution_count": null,
   "id": "ce93ae12",
   "metadata": {},
   "outputs": [],
   "source": [
    "null_info = pd.DataFrame({\n",
    "    \"Valores_Nulos\": df.isnull().sum(),\n",
    "    \"Porcentaje_Nulos\": (df.isnull().sum() / len(df)) * 100\n",
    "})\n",
    "null_info[null_info[\"Valores_Nulos\"] > 0]"
   ]
  },
  {
   "cell_type": "markdown",
   "id": "22f0dfbc-9785-42bf-8221-8fca6f06d61f",
   "metadata": {},
   "source": [
    "**Tratar los valores faltantes**"
   ]
  },
  {
   "cell_type": "code",
   "execution_count": null,
   "id": "41678338-d224-4bf6-9655-d261de7c957b",
   "metadata": {},
   "outputs": [],
   "source": [
    "for col in df.columns:\n",
    "    if df[col].dtype in ['int64', 'float64']:\n",
    "        df[col] = df[col].fillna(df[col].median())\n",
    "    else:\n",
    "        df[col] = df[col].fillna(df[col].mode()[0])"
   ]
  },
  {
   "cell_type": "markdown",
   "id": "9e5a6a8c-9e1f-4ec2-b8d8-248da9a1121f",
   "metadata": {},
   "source": [
    "**Normalizar texto**"
   ]
  },
  {
   "cell_type": "code",
   "execution_count": null,
   "id": "57400329-3e48-41d5-86ff-7616cd480ffc",
   "metadata": {},
   "outputs": [],
   "source": [
    "for col in df.select_dtypes(include=['object']).columns:\n",
    "    df[col] = df[col].astype(str).str.strip().str.lower()"
   ]
  },
  {
   "cell_type": "markdown",
   "id": "dee4ffff-894b-4735-9c31-697ca994e559",
   "metadata": {},
   "source": [
    "**Eliminar Duplicados**"
   ]
  },
  {
   "cell_type": "code",
   "execution_count": null,
   "id": "79a7cf1b-8dcb-402b-b78c-3b99b4e64bda",
   "metadata": {},
   "outputs": [],
   "source": [
    "df = df.drop_duplicates()"
   ]
  },
  {
   "cell_type": "markdown",
   "id": "9dee71da-c7ce-4621-b69a-a0bf80fb1c4e",
   "metadata": {},
   "source": [
    "**Comprobar información general**"
   ]
  },
  {
   "cell_type": "code",
   "execution_count": null,
   "id": "52f0dccc-2ce5-4288-8612-51ed25f68a7c",
   "metadata": {},
   "outputs": [],
   "source": [
    "print(df.info())"
   ]
  },
  {
   "cell_type": "markdown",
   "id": "56202680-1249-4d21-9a09-45394f19b6cb",
   "metadata": {},
   "source": [
    "**Comprobar Valores Nulos**"
   ]
  },
  {
   "cell_type": "code",
   "execution_count": null,
   "id": "59122aeb-4438-42c5-a86d-601d461f0091",
   "metadata": {},
   "outputs": [],
   "source": [
    "null_info = pd.DataFrame({\n",
    "    \"Valores_Nulos\": df.isnull().sum(),\n",
    "    \"Porcentaje_Nulos\": (df.isnull().sum() / len(df)) * 100\n",
    "})\n",
    "null_info[null_info[\"Valores_Nulos\"] > 0]"
   ]
  },
  {
   "cell_type": "markdown",
   "id": "6b660dcc-c769-4613-8e6f-227b9d50209f",
   "metadata": {},
   "source": [
    "**Comprobar de valores atípicos**"
   ]
  },
  {
   "cell_type": "code",
   "execution_count": null,
   "id": "ba7e00f6-bbe1-4da2-9ddd-219d3438fb08",
   "metadata": {},
   "outputs": [],
   "source": [
    "df[(df[\"Unemployment Rate (%)\"] < 0) | (df[\"Unemployment Rate (%)\"] > 50)]"
   ]
  },
  {
   "cell_type": "markdown",
   "id": "347daf2f",
   "metadata": {},
   "source": [
    "## 3. Análisis Exploratorio de Datos\n"
   ]
  },
  {
   "cell_type": "markdown",
   "id": "ee8b29e6-56b0-4b9f-a1d8-ca64309256e4",
   "metadata": {},
   "source": [
    "**Identificar columnas numéricas y categóricas**"
   ]
  },
  {
   "cell_type": "code",
   "execution_count": null,
   "id": "36ceb470",
   "metadata": {},
   "outputs": [],
   "source": [
    "num_cols = df.select_dtypes(include=[np.number]).columns\n",
    "cat_cols = df.select_dtypes(exclude=[np.number]).columns\n",
    "\n",
    "print(\"Variables numéricas:\", list(num_cols))\n",
    "print(\"Variables categóricas:\", list(cat_cols))"
   ]
  },
  {
   "cell_type": "markdown",
   "id": "cbcd0b4d-71e4-4e2b-a2ab-d50649ebfdf4",
   "metadata": {},
   "source": [
    "**Estadísticas de las numéricas**"
   ]
  },
  {
   "cell_type": "code",
   "execution_count": null,
   "id": "84e71720",
   "metadata": {},
   "outputs": [],
   "source": [
    "df[num_cols].describe().T"
   ]
  },
  {
   "cell_type": "markdown",
   "id": "e4289f64-eac0-4fda-bd07-69d7de90eb59",
   "metadata": {},
   "source": [
    "**Resumen de variables categóricas**"
   ]
  },
  {
   "cell_type": "code",
   "execution_count": null,
   "id": "25226241",
   "metadata": {},
   "outputs": [],
   "source": [
    "for c in cat_cols:\n",
    "    print(f\"\\n{c}:\")\n",
    "    print(df[c].value_counts().head(5))"
   ]
  },
  {
   "cell_type": "markdown",
   "id": "620ff4bc-7e39-435f-8237-fb1715f8c2d8",
   "metadata": {},
   "source": [
    "**Identificación de outliers**"
   ]
  },
  {
   "cell_type": "code",
   "execution_count": null,
   "id": "36e1979d",
   "metadata": {},
   "outputs": [],
   "source": [
    "def detectar_outliers(col):\n",
    "    Q1 = df[col].quantile(0.25)\n",
    "    Q3 = df[col].quantile(0.75)\n",
    "    IQR = Q3 - Q1\n",
    "    limite_inferior = Q1 - 1.5*IQR\n",
    "    limite_superior = Q3 + 1.5*IQR\n",
    "    outliers = df[(df[col] < limite_inferior) | (df[col] > limite_superior)][col]\n",
    "    return outliers\n",
    "\n",
    "for col in num_cols:\n",
    "    outliers = detectar_outliers(col)\n",
    "    print(f\"{col}: {len(outliers)} outliers detectados\")"
   ]
  },
  {
   "cell_type": "markdown",
   "id": "ffa7c689-b610-4ec2-98bc-d7c6f90007b1",
   "metadata": {},
   "source": [
    "**Boxplots**"
   ]
  },
  {
   "cell_type": "code",
   "execution_count": null,
   "id": "f9f229e3",
   "metadata": {},
   "outputs": [],
   "source": [
    "df[num_cols].boxplot(figsize=(12,6))\n",
    "plt.title(\"Boxplots - Variables numéricas\")\n",
    "plt.xticks(rotation=45)\n",
    "plt.show()"
   ]
  },
  {
   "cell_type": "code",
   "execution_count": null,
   "id": "e2c59a12",
   "metadata": {},
   "outputs": [],
   "source": [
    "plt.figure(figsize=(12,6))\n",
    "df[num_cols].boxplot()\n",
    "plt.yscale(\"log\")\n",
    "plt.title(\"Boxplots con escala logarítmica\")\n",
    "plt.xticks(rotation=45)\n",
    "plt.show()"
   ]
  },
  {
   "cell_type": "markdown",
   "id": "f2ee2d17-e6e5-4dd5-b623-fcda9c3fa7a6",
   "metadata": {},
   "source": [
    "**Top 10 países por PIB promedio**"
   ]
  },
  {
   "cell_type": "code",
   "execution_count": null,
   "id": "17ff38cd",
   "metadata": {},
   "outputs": [],
   "source": [
    "df.groupby(\"country_name\")[\"GDP (Current USD)\"].mean().sort_values(ascending=False).head(10)"
   ]
  },
  {
   "cell_type": "markdown",
   "id": "670aee65-dc0f-493e-aa09-f32001c41561",
   "metadata": {},
   "source": [
    "**Top 10 países por crecimiento promedio**"
   ]
  },
  {
   "cell_type": "code",
   "execution_count": null,
   "id": "56802142",
   "metadata": {},
   "outputs": [],
   "source": [
    "df.groupby(\"country_name\")[\"GDP Growth (% Annual)\"].mean().sort_values(ascending=False).head(10)"
   ]
  },
  {
   "cell_type": "markdown",
   "id": "3dc5dae2",
   "metadata": {},
   "source": [
    "## 4. Visualizaciones\n"
   ]
  },
  {
   "cell_type": "code",
   "execution_count": null,
   "id": "49776c25",
   "metadata": {},
   "outputs": [],
   "source": [
    "fig, axes = plt.subplots(2, 2, figsize=(15, 12))\n",
    "colors = ['#1f77b4','#ff7f0e','#2ca02c','#d62728','#9467bd','#8c564b']\n",
    "\n",
    "# Evolución PIB mundial\n",
    "yearly_gdp = df.groupby(\"year\")[\"GDP (Current USD)\"].mean()\n",
    "axes[0,0].plot(yearly_gdp.index, yearly_gdp.values, marker=\"o\", color=colors[0])\n",
    "axes[0,0].set_title(\"Evolución del PIB Mundial Promedio\", fontweight=\"bold\")\n",
    "axes[0,0].set_xlabel(\"Año\")\n",
    "axes[0,0].set_ylabel(\"PIB Promedio (USD)\")\n",
    "axes[0,0].grid(True, alpha=0.3)\n",
    "\n",
    "# Top 10 PIB\n",
    "top_10 = df.groupby(\"country_name\")[\"GDP (Current USD)\"].mean().nlargest(10)\n",
    "axes[0,1].barh(top_10.index, top_10.values, color=colors[:10])\n",
    "axes[0,1].set_title(\"Top 10 Países por PIB Promedio\", fontweight=\"bold\")\n",
    "axes[0,1].set_xlabel(\"PIB Promedio (USD)\")\n",
    "axes[0,1].set_ylabel(\"Países\")\n",
    "\n",
    "# Relación PIB per cápita vs desempleo\n",
    "sample_df = df.sample(min(1000,len(df)))\n",
    "axes[1,0].scatter(sample_df[\"GDP per Capita (Current USD)\"], sample_df[\"Unemployment Rate (%)\"], alpha=0.6, color=colors[2])\n",
    "axes[1,0].set_title(\"Relación PIB per Cápita vs Desempleo\", fontweight=\"bold\")\n",
    "axes[1,0].set_xlabel(\"PIB per Cápita (USD)\")\n",
    "axes[1,0].set_ylabel(\"Tasa de Desempleo (%)\")\n",
    "axes[1,0].set_xscale(\"log\")\n",
    "\n",
    "# Distribución crecimiento económico\n",
    "growth_data = df[\"GDP Growth (% Annual)\"].dropna()\n",
    "axes[1,1].hist(growth_data, bins=30, color=colors[3], edgecolor=\"black\", alpha=0.7)\n",
    "axes[1,1].set_title(\"Distribución del Crecimiento Económico\", fontweight=\"bold\")\n",
    "axes[1,1].set_xlabel(\"Crecimiento del PIB (% Anual)\")\n",
    "axes[1,1].set_ylabel(\"Frecuencia\")\n",
    "axes[1,1].grid(True, alpha=0.3)\n",
    "\n",
    "plt.suptitle(\"Análisis Exploratorio - Indicadores Macroeconómicos Mundiales\", fontsize=16, fontweight=\"bold\")\n",
    "plt.tight_layout(rect=[0, 0.03, 1, 0.95])\n",
    "plt.show()"
   ]
  },
  {
   "cell_type": "markdown",
   "id": "911279a8-1070-4730-a51f-90bd50f9b91f",
   "metadata": {},
   "source": [
    "**Matriz de correlación**"
   ]
  },
  {
   "cell_type": "code",
   "execution_count": null,
   "id": "4f1d9791",
   "metadata": {},
   "outputs": [],
   "source": [
    "numeric_cols = df.select_dtypes(include=[np.number]).columns\n",
    "corr = df[numeric_cols].corr()\n",
    "\n",
    "plt.figure(figsize=(10,8))\n",
    "im = plt.imshow(corr, cmap=\"coolwarm\", vmin=-1, vmax=1)\n",
    "plt.xticks(range(len(corr)), corr.columns, rotation=45, ha=\"right\")\n",
    "plt.yticks(range(len(corr)), corr.columns)\n",
    "plt.colorbar(im, label=\"Coef. Correlación\")\n",
    "plt.title(\"Matriz de Correlación - Variables Económicas\")\n",
    "plt.show()"
   ]
  },
  {
   "cell_type": "markdown",
   "id": "7f5770f5",
   "metadata": {},
   "source": [
    "## Gráficos evolución Mundial"
   ]
  },
  {
   "cell_type": "code",
   "execution_count": null,
   "id": "10fde3ee",
   "metadata": {},
   "outputs": [],
   "source": [
    "world_growth = df.groupby(\"year\")[\"GDP Growth (% Annual)\"].mean()\n",
    "world_unemployment = df.groupby(\"year\")[\"Unemployment Rate (%)\"].mean()\n",
    "world_inflation = df.groupby(\"year\")[\"Inflation (CPI %)\"].mean()\n",
    "fig, axes = plt.subplots(3, 1, figsize=(12, 15), sharex=True)\n",
    "\n",
    "# Crecimiento económico\n",
    "axes[0].plot(world_growth.index, world_growth.values, marker=\"o\", color=\"green\", label=\"Crecimiento económico mundial\")\n",
    "axes[0].set_title(\"Evolución del crecimiento económico mundial (% promedio anual)\", fontweight=\"bold\")\n",
    "axes[0].set_ylabel(\"GDP Growth (%)\")\n",
    "axes[0].legend()\n",
    "axes[0].grid(True, alpha=0.3)\n",
    "\n",
    "# Desempleo\n",
    "axes[1].plot(world_unemployment.index, world_unemployment.values, marker=\"o\", color=\"red\", label=\"Desempleo mundial\")\n",
    "axes[1].set_title(\"Evolución del desempleo mundial (% promedio anual)\", fontweight=\"bold\")\n",
    "axes[1].set_ylabel(\"Unemployment Rate (%)\")\n",
    "axes[1].legend()\n",
    "axes[1].grid(True, alpha=0.3)\n",
    "\n",
    "# Inflación\n",
    "axes[2].plot(world_inflation.index, world_inflation.values, marker=\"o\", color=\"blue\", label=\"Inflación mundial\")\n",
    "axes[2].set_title(\"Evolución de la Inflación Mundial (CPI %)\", fontweight=\"bold\")\n",
    "axes[2].set_xlabel(\"Año\")\n",
    "axes[2].set_ylabel(\"Inflación (CPI %)\")\n",
    "axes[2].legend()\n",
    "axes[2].grid(True, alpha=0.3)\n",
    "\n",
    "plt.tight_layout()\n",
    "plt.show()"
   ]
  },
  {
   "cell_type": "markdown",
   "id": "7c847918",
   "metadata": {},
   "source": [
    "## 5. Selección de Variables\n",
    "- **Principales**: `Unemployment Rate (%)`, `GDP Growth (% Annual)`  \n",
    "- **Secundarias**: `Inflation (CPI %)`, `GDP (Current USD)`  \n",
    "\n",
    "**Justificación**:  \n",
    "- PIB y crecimiento son indicadores centrales del desempeño económico.  \n",
    "- Inflación y desempleo son críticos en política económica.  \n",
    "- Existen correlaciones interesantes entre ellas. "
   ]
  },
  {
   "cell_type": "markdown",
   "id": "3e399907-c02b-42ae-b241-db09b09cabce",
   "metadata": {},
   "source": [
    "Nota: Idea confirmada por ChatGPT: en base a nuestro trabajo, considerarias que el gdp(current usd), y gdp growth% anual como principales, y la inflation CPI% y Unemployment rate% como secundarias es una factible seleccion de variables para poder hondar en nuestra pregunta de investigacion?"
   ]
  },
  {
   "cell_type": "markdown",
   "id": "a573c9ef",
   "metadata": {},
   "source": [
    "## 6. Pregunta de Investigación\n",
    "Analizando los datos, nos dimos cuenta de que los paises más desarrolados tienen in PIB mucho más elevado que el de aquellos que no, en especial aquellas que pueden ser consideradas potencias mundiales, cómo China y EE.UU. Además, el crecimiento del PIB en el mundo empezó a crecer en gran manera en 2020, lo que justamente coincide con la pandemia, lo que nos deja con la idea de que algunos paises pudieron aprovechar muy bien la situación para poder crecer y desarrollarse durante este periodo, teninendo como consecuencia, que su PIB aumente. Sin embargo, siguen habiendo paises que se quedaron algo atras en comparación a otros, dando como resultado que tengan una tasa de desempleo más alta, ya que no supieron adaptarse tan bien como otros, evidenciando que, mientras más alta la tasa de crecimiento del PIB, la empleabilidad aumenta. Aunque, hay que destacar que, aunque algunos paises tengan un PIB muy alto, este no tiene una tasa de crecimiento tan alta como otros paises que tienen menos PIB.\n",
    "\n",
    "Con esto en mente, no planteamos la siguiente pregunta de investigación:\n",
    "\n",
    "**¿La tasa de crecimiento del PIB influye mucho más que la inflación y el PIB actual de un país, en su tasa de desempleo?**\n",
    "\n",
    "Hipotesis de la pregunta planteada:\n",
    "\n",
    "**La tasa de crecimiento sí influye más que el resto de variables en cuanto a la tasa de desempleo, siendo el PIB actual una forma de verificarlo y la inflación un factor que restrasaría este crecimiento.**"
   ]
  },
  {
   "cell_type": "markdown",
   "id": "982548b6-d85d-4919-86cc-0a79f9fc7571",
   "metadata": {},
   "source": [
    "# Laboratorio 2 - Simulación e Inferencia"
   ]
  },
  {
   "cell_type": "markdown",
   "id": "1753ae07-b553-4f18-a895-6526d130e5ae",
   "metadata": {},
   "source": [
    "## 1. Estimación puntual"
   ]
  },
  {
   "cell_type": "markdown",
   "id": "1cebd037-e90a-4e89-bc04-f4db5da5b11a",
   "metadata": {},
   "source": [
    "**Necesario ejecutar el código del laboratorio anteriror para evitar problemas**"
   ]
  },
  {
   "cell_type": "code",
   "execution_count": null,
   "id": "207a48ed-b0e1-413f-afdc-b80dc8a1ec42",
   "metadata": {},
   "outputs": [],
   "source": [
    "pip install scipy scikit-learn"
   ]
  },
  {
   "cell_type": "code",
   "execution_count": null,
   "id": "2ae5611e-0d96-4cff-ada3-7eab2804d314",
   "metadata": {},
   "outputs": [],
   "source": [
    "import scipy.stats as stats\n",
    "from scipy.stats import t, norm\n",
    "from sklearn.linear_model import LinearRegression\n",
    "from sklearn.metrics import r2_score, mean_squared_error\n",
    "import warnings\n",
    "warnings.filterwarnings('ignore')\n",
    "\n",
    "def calcular_estimadores_puntuales(data, variable_name):\n",
    "    data_clean = data.dropna()\n",
    "    n = len(data_clean)\n",
    "    \n",
    "    if n == 0:\n",
    "        return None\n",
    "\n",
    "    estimadores = {\n",
    "        'n': n,\n",
    "        'media_muestral': np.mean(data_clean),\n",
    "        'mediana': np.median(data_clean),\n",
    "        'varianza_muestral': np.var(data_clean, ddof=1),\n",
    "        'desviacion_estandar': np.std(data_clean, ddof=1),\n",
    "        'error_estandar_media': np.std(data_clean, ddof=1) / np.sqrt(n),\n",
    "        'coef_variacion': (np.std(data_clean, ddof=1) / np.mean(data_clean)) * 100 if np.mean(data_clean) != 0 else np.nan,\n",
    "        'minimo': np.min(data_clean),\n",
    "        'maximo': np.max(data_clean),\n",
    "        'q1': np.percentile(data_clean, 25),\n",
    "        'q3': np.percentile(data_clean, 75),\n",
    "        'asimetria': stats.skew(data_clean),\n",
    "        'curtosis': stats.kurtosis(data_clean)\n",
    "    }\n",
    "    \n",
    "    alpha = 0.05\n",
    "    t_critical = t.ppf(1 - alpha/2, df=n-1)\n",
    "    margin_error = t_critical * estimadores['error_estandar_media']\n",
    "    \n",
    "    estimadores['ic_95_inferior'] = estimadores['media_muestral'] - margin_error\n",
    "    estimadores['ic_95_superior'] = estimadores['media_muestral'] + margin_error\n",
    "    \n",
    "    return estimadores\n",
    "\n",
    "variables_principales = [\n",
    "    'GDP Growth (% Annual)',\n",
    "    'Inflation (CPI %)', \n",
    "    'GDP (Current USD)',\n",
    "    'Unemployment Rate (%)'\n",
    "]\n",
    "\n",
    "print(\"1. Variables Seleccionadas\")\n",
    "print(\"Basándome en nuestra pregunta de investigación:\")\n",
    "print(\"¿La tasa de crecimiento del PIB influye mucho más que la inflación y el PIB actual de un país, en su tasa de desempleo?\")\n",
    "for i, var in enumerate(variables_principales, 1):\n",
    "    tipo = 'dependiente' if 'Unemployment' in var else 'independiente'\n",
    "    print(f\"{i}. {var}: Variable {tipo}\")\n",
    "\n",
    "resultados_estimacion = {}\n",
    "\n",
    "print()\n",
    "\n",
    "print(\"2. Estimadores Puntuales por Variable\")\n",
    "\n",
    "for variable in variables_principales:\n",
    "    print(f\" {variable}\")\n",
    "    \n",
    "    estimadores = calcular_estimadores_puntuales(df[variable], variable)\n",
    "    resultados_estimacion[variable] = estimadores\n",
    "    \n",
    "    if estimadores is not None:\n",
    "        print(f\"- Tamaño de muestra (n): {estimadores['n']:,}\")\n",
    "        print(f\"- Media muestral (μ̂): {estimadores['media_muestral']:.4f}\")\n",
    "        print(f\"- Desviación estándar (s): {estimadores['desviacion_estandar']:.4f}\")\n",
    "        print(f\"- Error estándar de la media: {estimadores['error_estandar_media']:.4f}\")\n",
    "        print(f\"- Coeficiente de variación: {estimadores['coef_variacion']:.2f}%\")\n",
    "        print(f\"- Intervalo de confianza 95%: [{estimadores['ic_95_inferior']:.4f}, {estimadores['ic_95_superior']:.4f}]\")\n",
    "        \n",
    "        # Interpretación económica\n",
    "        if 'GDP Growth' in variable:\n",
    "            print(\"- Interpretación:** Crecimiento económico promedio de los países en la muestra\")\n",
    "        elif 'Inflation' in variable:\n",
    "            print(\"- Interpretación:** Tasa de inflación promedio, valores 2-3% son considerados saludables\")\n",
    "        elif 'GDP (Current USD)' in variable:\n",
    "            print(\"- Interpretación: Tamaño económico promedio de los países\")\n",
    "        elif 'Unemployment' in variable:\n",
    "            print(\"- Interpretación: Tasa de desempleo promedio, valores < 5% indican mercados laborales saludables\")\n",
    "        print()\n",
    "\n",
    "print(\"3. Tabla Comparativa de Estimadores\")\n",
    "\n",
    "comparison_data = []\n",
    "for variable in variables_principales:\n",
    "    if resultados_estimacion[variable] is not None:\n",
    "        est = resultados_estimacion[variable]\n",
    "        comparison_data.append({\n",
    "            'Variable': variable.replace(' (%)', '').replace(' (Current USD)', ''),\n",
    "            'Media': f\"{est['media_muestral']:.4f}\",\n",
    "            'Desv.Std': f\"{est['desviacion_estandar']:.4f}\",\n",
    "            'Error Std': f\"{est['error_estandar_media']:.4f}\",\n",
    "            'CV (%)': f\"{est['coef_variacion']:.2f}\",\n",
    "            'IC 95%': f\"[{est['ic_95_inferior']:.3f}, {est['ic_95_superior']:.3f}]\"\n",
    "        })\n",
    "\n",
    "comparison_df = pd.DataFrame(comparison_data)\n",
    "print(comparison_df.to_string(index=False))\n",
    "print()\n",
    "\n",
    "print(\"4. Validación de Supuestos - Test de Normalidad\")\n",
    "\n",
    "def test_normalidad_simple(data, alpha=0.05):\n",
    "    data_clean = data.dropna()\n",
    "    n = len(data_clean)\n",
    "    \n",
    "    if n < 3:\n",
    "        return None\n",
    "    \n",
    "    if n > 5000:\n",
    "        statistic, p_value = stats.kstest(data_clean, 'norm', \n",
    "                                        args=(np.mean(data_clean), np.std(data_clean)))\n",
    "        test_name = \"Kolmogorov-Smirnov\"\n",
    "    else:\n",
    "        statistic, p_value = stats.shapiro(data_clean)\n",
    "        test_name = \"Shapiro-Wilk\"\n",
    "    \n",
    "    return {\n",
    "        'test': test_name,\n",
    "        'p_value': p_value,\n",
    "        'es_normal': p_value > alpha\n",
    "    }\n",
    "\n",
    "for variable in variables_principales:\n",
    "    test_result = test_normalidad_simple(df[variable])\n",
    "    if test_result is not None:\n",
    "        print(f\"{variable}:\")\n",
    "        print(f\"- Test: {test_result['test']}\")\n",
    "        print(f\"- p-valor: {test_result['p_value']:.4f}\")\n",
    "        print(f\"- ¿Es normal?: {'Sí' if test_result['es_normal'] else 'No'} (α = 0.05)\")\n",
    "        print()\n",
    "\n",
    "print(\"5. Estimación de Parámetros del Modelo Econométrico\")\n",
    "print(\"Modelo propuesto: Unemployment = β₀ + β₁(GDP_Growth) + β₂(Inflation) + β₃(log(GDP)) + ε\")\n",
    "\n",
    "# Preparar datos para el modelo\n",
    "model_data = df[variables_principales].copy()\n",
    "model_data = model_data.dropna()\n",
    "\n",
    "print(f\"Observaciones disponibles: {len(model_data):,}\")\n",
    "\n",
    "# Transformar GDP a logaritmo\n",
    "model_data['log_GDP'] = np.log(model_data['GDP (Current USD)'])\n",
    "\n",
    "# Variables del modelo\n",
    "X = model_data[['GDP Growth (% Annual)', 'Inflation (CPI %)', 'log_GDP']]\n",
    "y = model_data['Unemployment Rate (%)']\n",
    "\n",
    "# Estimación MCO\n",
    "modelo = LinearRegression()\n",
    "modelo.fit(X, y)\n",
    "\n",
    "# Predicciones y estadísticos\n",
    "y_pred = modelo.predict(X)\n",
    "r_squared = r2_score(y, y_pred)\n",
    "rmse = np.sqrt(mean_squared_error(y, y_pred))\n",
    "\n",
    "# Estimadores del modelo\n",
    "beta_0 = modelo.intercept_\n",
    "betas = modelo.coef_\n",
    "\n",
    "print()\n",
    "\n",
    "print(\"Estimadores puntuales del modelo:\")\n",
    "print(f\"- β₀ (Intercepto): {beta_0:.4f}\")\n",
    "print(f\"- β₁ (GDP Growth): {betas[0]:.4f}\")\n",
    "print(f\"- β₂ (Inflation): {betas[1]:.4f}\")\n",
    "print(f\"- β₃ (log GDP): {betas[2]:.4f}\")\n",
    "print(f\"- R²: {r_squared:.4f}\")\n",
    "print(f\"- RMSE: {rmse:.4f}\")\n",
    "\n",
    "print()\n",
    "\n",
    "print(\"Interpretación económica:\")\n",
    "print(f\"- Por cada 1% de aumento en el crecimiento del PIB, el desempleo {'disminuye' if betas[0] < 0 else 'aumenta'} en {abs(betas[0]):.4f} puntos porcentuales\")\n",
    "print(f\"- Por cada 1% de aumento en la inflación, el desempleo {'disminuye' if betas[1] < 0 else 'aumenta'} en {abs(betas[1]):.4f} puntos porcentuales\")\n",
    "print(f\"- El modelo explica {r_squared*100:.2f}% de la variabilidad en la tasa de desempleo\")\n",
    "\n",
    "print()\n",
    "\n",
    "print(\"6. Propiedades de los Estimadores\")\n",
    "print(\"Media Muestral (X̄):\")\n",
    "print(\"- Insesgadez: E[X̄] = μ\")\n",
    "print(\"- Consistencia: Converge al parámetro poblacional\")\n",
    "print(\"- Eficiencia: Varianza mínima (BLUE)\")\n",
    "print(\"Varianza Muestral (s²):\")\n",
    "print(\"- Insesgadez: E[s²] = σ² (con corrección n-1)\")\n",
    "print(\"- Consistencia: Converge a la varianza poblacional\")\n",
    "print(\"Estimadores MCO:\")\n",
    "print(\"- Insesgadez: E[β̂] = β bajo supuestos de Gauss-Markov\")\n",
    "print(\"- Eficiencia: BLUE bajo supuestos clásicos\")\n",
    "print(\"- Consistencia: Convergen a parámetros verdaderos\")\n",
    "\n",
    "print()\n",
    "\n",
    "print(\"7. Conclusiones de la Estimación Puntual\")\n",
    "print(\"a). Estimadores implementados: Se calcularon estimadores puntuales insesgados y eficientes para las variables macroeconómicas clave.\")\n",
    "print(\"b). Validez estadística: Los estimadores cumplen con las propiedades deseables de insesgadez, consistencia y eficiencia.\")\n",
    "print(\"c). Relevancia económica: Los estimadores proporcionan información valiosa sobre los parámetros poblacionales de interés.\")\n",
    "print(\"d). Modelo econométrico: Los estimadores del modelo sugieren relaciones significativas entre las variables, proporcionando evidencia para evaluar nuestra hipótesis de investigación.\")\n",
    "print(\"e). Implicaciones: Los resultados indican que tanto el crecimiento del PIB como la inflación tienen efectos medibles en la tasa de desempleo, lo cual es consistente con la teoría económica.\")"
   ]
  },
  {
   "cell_type": "markdown",
   "id": "79777f1d-0bc9-4f61-977b-0b32ad1009cd",
   "metadata": {},
   "source": [
    "## 2. Métodos de remuestreo: Bootstrap"
   ]
  },
  {
   "cell_type": "markdown",
   "id": "53f416d5-9da0-4dab-8e4a-2aa5c5bffd30",
   "metadata": {},
   "source": [
    "**1**\n",
    "\n",
    "El método Bootstrap nos permite, a base de realizar varios análisis con los datos disponibles, predecir lo que va a suceder al repetir el mismo experimento varias veces. \n",
    "\n",
    "Este fue inventado por Bradley Efron en 1979, cuyo nombre proviene de la frase to pull oneself up by one’s bootstrap, la cual representa la capacidad de poder salir adelante por los medios propios. Su motivación fue la de evitar que los resultados fueran alterados por fuertes supuestos, pudiendo así generar resultados más precisos con las muestras disponibles, provocando que sea muy versátil e importante en la estadística moderna. "
   ]
  },
  {
   "cell_type": "markdown",
   "id": "8f5228d3-8f43-4726-a432-f1dc9e0f6eb7",
   "metadata": {},
   "source": [
    "**2**\n",
    "\n",
    "El método consiste en los siguientes pasos: \n",
    "\n",
    "- Contar el número de muestras analizadas y analizar alguna de las medidas estadísticas (media, promedio, moda, entre otras) \n",
    "\n",
    "- Crear una nueva colección de muestras con el mismo número de muestras que las originales, pudiendo seleccionar varias veces la misma muestra   \n",
    "\n",
    "- Analizar la medida estadística realizada en la original y volver a hacerlo con la nueva colección\n",
    "\n",
    "- Repetir estos dos últimos pasos muchas veces \n",
    "\n",
    "- Crear un histograma que permita analizar la varianza, sesgo e intervalo de confianza, simulando así que se haya repetido el mismo experimento varias veces "
   ]
  },
  {
   "cell_type": "markdown",
   "id": "17c04755-ef16-41d9-ac5d-f2720f91fb19",
   "metadata": {},
   "source": [
    "**3**"
   ]
  },
  {
   "cell_type": "code",
   "execution_count": null,
   "id": "2b523d87-3a62-4db9-91ed-66fac838b11f",
   "metadata": {},
   "outputs": [],
   "source": [
    "from scipy.stats import gaussian_kde\n",
    "\n",
    "def bootstrap_economico(data, statistic_func, n_bootstrap=1000, alpha=0.05):\n",
    "    n = len(data)\n",
    "    bootstrap_stats = []\n",
    "    \n",
    "    # Estadístico original\n",
    "    original_stat = statistic_func(data)\n",
    "    \n",
    "    # Generar muestras bootstrap\n",
    "    for i in range(n_bootstrap):\n",
    "        # Muestreo con reemplazo\n",
    "        bootstrap_sample = np.random.choice(data, size=n, replace=True)\n",
    "        # Calcular estadístico\n",
    "        stat = statistic_func(bootstrap_sample)\n",
    "        bootstrap_stats.append(stat)\n",
    "    \n",
    "    bootstrap_stats = np.array(bootstrap_stats)\n",
    "    bias = np.mean(bootstrap_stats) - original_stat\n",
    "    std_error = np.std(bootstrap_stats, ddof=1)\n",
    "    \n",
    "    # Intervalos de confianza percentil\n",
    "    lower_percentile = np.percentile(bootstrap_stats, (alpha/2)*100)\n",
    "    upper_percentile = np.percentile(bootstrap_stats, (1-alpha/2)*100)\n",
    "    \n",
    "    # Intervalo de confianza normal - AQUÍ SE USA norm\n",
    "    z_critical = norm.ppf(1 - alpha/2)\n",
    "    lower_normal = original_stat - z_critical * std_error\n",
    "    upper_normal = original_stat + z_critical * std_error\n",
    "    \n",
    "    return {\n",
    "        'original': original_stat,\n",
    "        'bootstrap_mean': np.mean(bootstrap_stats),\n",
    "        'bias': bias,\n",
    "        'std_error': std_error,\n",
    "        'ci_percentil': (lower_percentile, upper_percentile),\n",
    "        'ci_normal': (lower_normal, upper_normal),\n",
    "        'bootstrap_distribution': bootstrap_stats\n",
    "    }\n",
    "\n",
    "print(\"Aplicación a Variables Económicas Clave:\")\n",
    "\n",
    "print()\n",
    "\n",
    "variables_bootstrap = {\n",
    "    'GDP Growth (% Annual)': 'Crecimiento Económico',\n",
    "    'Unemployment Rate (%)': 'Tasa de Desempleo', \n",
    "    'Inflation (CPI %)': 'Tasa de Inflación',\n",
    "    'GDP per Capita (Current USD)': 'PIB per Cápita'\n",
    "}\n",
    "\n",
    "resultados_bootstrap = {}\n",
    "\n",
    "for variable, descripcion in variables_bootstrap.items():\n",
    "    print(f\"{descripcion} ({variable})\")\n",
    "    \n",
    "    # Limpiar datos\n",
    "    data_clean = df[variable].dropna()\n",
    "    \n",
    "    if len(data_clean) > 0:\n",
    "        # Aplicar bootstrap para la media\n",
    "        resultado = bootstrap_economico(data_clean, np.mean, n_bootstrap=1000)\n",
    "        resultados_bootstrap[variable] = resultado\n",
    "        \n",
    "        print(f\"- Media original: {resultado['original']:.4f}\")\n",
    "        print(f\"- Media bootstrap: {resultado['bootstrap_mean']:.4f}\")\n",
    "        print(f\"- Sesgo estimado: {resultado['bias']:.4f}\")\n",
    "        print(f\"- Error estándar bootstrap: {resultado['std_error']:.4f}\")\n",
    "        print(f\"- IC 95% percentil: [{resultado['ci_percentil'][0]:.4f}, {resultado['ci_percentil'][1]:.4f}]\")\n",
    "        print(f\"- IC 95% normal: [{resultado['ci_normal'][0]:.4f}, {resultado['ci_normal'][1]:.4f}]\")\n",
    "        print()\n",
    "    else:\n",
    "        print(f\"- No hay datos suficientes para {variable}\")\n",
    "        print()"
   ]
  },
  {
   "cell_type": "markdown",
   "id": "3d79afba-b789-450b-b5ec-72b0185e45cf",
   "metadata": {},
   "source": [
    "**4**"
   ]
  },
  {
   "cell_type": "code",
   "execution_count": null,
   "id": "58ba969c-da55-4fbb-ad9e-50cc28c984bd",
   "metadata": {},
   "outputs": [],
   "source": [
    "print(\"Tabla Resumen - Estimaciones Bootstrap:\")\n",
    "\n",
    "print()\n",
    "\n",
    "resumen_data = []\n",
    "for variable, descripcion in variables_bootstrap.items():\n",
    "    if variable in resultados_bootstrap:\n",
    "        result = resultados_bootstrap[variable]\n",
    "        resumen_data.append({\n",
    "            'Indicador Económico': descripcion,\n",
    "            'Media Original': f\"{result['original']:.4f}\",\n",
    "            'Media Bootstrap': f\"{result['bootstrap_mean']:.4f}\",\n",
    "            'Sesgo': f\"{result['bias']:.6f}\",\n",
    "            'Error Estándar': f\"{result['std_error']:.4f}\",\n",
    "            'IC Percentil 95%': f\"[{result['ci_percentil'][0]:.3f}, {result['ci_percentil'][1]:.3f}]\",\n",
    "            'Amplitud IC': f\"{(result['ci_percentil'][1] - result['ci_percentil'][0]):.3f}\"\n",
    "        })\n",
    "\n",
    "resumen_df = pd.DataFrame(resumen_data)\n",
    "print(resumen_df.to_string(index=False))\n",
    "print()\n",
    "\n",
    "print(\"Análisis de las Distribuciones Bootstrap:\")\n",
    "print()\n",
    "\n",
    "for variable, descripcion in variables_bootstrap.items():\n",
    "    if variable in resultados_bootstrap:\n",
    "        result = resultados_bootstrap[variable]\n",
    "        bootstrap_dist = result['bootstrap_distribution']\n",
    "        \n",
    "        print(f\"{descripcion}:\")\n",
    "        print(f\"- Rango bootstrap: [{np.min(bootstrap_dist):.4f}, {np.max(bootstrap_dist):.4f}]\")\n",
    "        # AQUÍ SE USA stats - CORREGIDO\n",
    "        print(f\"- Asimetría bootstrap: {stats.skew(bootstrap_dist):.4f}\")\n",
    "        print(f\"- Curtosis bootstrap: {stats.kurtosis(bootstrap_dist):.4f}\")\n",
    "        print(f\"- Coeficiente de variación: {(result['std_error'] / result['bootstrap_mean']) * 100:.2f}%\")\n",
    "        \n",
    "        if 'Crecimiento' in descripcion:\n",
    "            if result['ci_percentil'][0] > 0:\n",
    "                print(\"- Significado económico: Crecimiento positivo estadísticamente significativo\")\n",
    "            else:\n",
    "                print(\"- Significado económico: Crecimiento no significativamente diferente de cero\")\n",
    "        \n",
    "        elif 'Desempleo' in descripcion:\n",
    "            if result['ci_percentil'][1] < 5:\n",
    "                print(\"- Significado económico: Tasa de desempleo baja (mercado laboral saludable)\")\n",
    "            elif result['ci_percentil'][0] > 10:\n",
    "                print(\"- Significado económico: Tasa de desempleo alta (problemas estructurales)\")\n",
    "            else:\n",
    "                print(\"- Significado económico: Tasa de desempleo moderada\")\n",
    "        \n",
    "        elif 'Inflación' in descripcion:\n",
    "            if result['ci_percentil'][0] > 2 and result['ci_percentil'][1] < 5:\n",
    "                print(\"- Significado económico: Inflación en rango objetivo típico\")\n",
    "            elif result['ci_percentil'][0] > 10:\n",
    "                print(\"- Significado económico: Inflación alta (presión inflacionaria)\")\n",
    "        \n",
    "        print()\n",
    "\n",
    "print(\"Visualización de Distribuciones Bootstrap\")\n",
    "print()\n",
    "\n",
    "fig, axes = plt.subplots(2, 2, figsize=(15, 12))\n",
    "axes = axes.ravel()\n",
    "\n",
    "colors = ['#1f77b4', '#ff7f0e', '#2ca02c', '#d62728']\n",
    "\n",
    "for idx, (variable, descripcion) in enumerate(variables_bootstrap.items()):\n",
    "    if variable in resultados_bootstrap:\n",
    "        result = resultados_bootstrap[variable]\n",
    "        bootstrap_dist = result['bootstrap_distribution']\n",
    "        \n",
    "        # Histograma de la distribución bootstrap\n",
    "        n, bins, patches = axes[idx].hist(bootstrap_dist, bins=30, alpha=0.7, \n",
    "                                        color=colors[idx], edgecolor='black', \n",
    "                                        density=True)\n",
    "        \n",
    "        # Líneas de referencia - CORREGIDO\n",
    "        original_label = f'Media original: {result[\"original\"]:.3f}'\n",
    "        bootstrap_label = f'Media bootstrap: {result[\"bootstrap_mean\"]:.3f}'\n",
    "        \n",
    "        axes[idx].axvline(result['original'], color='red', linestyle='--', \n",
    "                         linewidth=3, label=original_label)\n",
    "        axes[idx].axvline(result['bootstrap_mean'], color='blue', linestyle='--',\n",
    "                         linewidth=2, label=bootstrap_label)\n",
    "        \n",
    "        # Intervalos de confianza\n",
    "        axes[idx].axvline(result['ci_percentil'][0], color='green', linestyle=':', \n",
    "                         linewidth=2, alpha=0.8, label='Límites IC 95%')\n",
    "        axes[idx].axvline(result['ci_percentil'][1], color='green', linestyle=':', \n",
    "                         linewidth=2, alpha=0.8)\n",
    "        \n",
    "        # Área de intervalo de confianza\n",
    "        axes[idx].axvspan(result['ci_percentil'][0], result['ci_percentil'][1], \n",
    "                         alpha=0.2, color='green', label='IC 95%')\n",
    "        \n",
    "        # Curva de densidad suavizada - AQUÍ SE USA gaussian_kde (ya importado)\n",
    "        kde = gaussian_kde(bootstrap_dist)\n",
    "        x_vals = np.linspace(bins[0], bins[-1], 100)\n",
    "        axes[idx].plot(x_vals, kde(x_vals), 'black', linewidth=1.5, label='Densidad')\n",
    "        \n",
    "        axes[idx].set_title(f'Distribución Bootstrap: {descripcion}', fontweight='bold', fontsize=12)\n",
    "        axes[idx].set_xlabel('Valor del Estadístico', fontweight='bold')\n",
    "        axes[idx].set_ylabel('Densidad de Probabilidad', fontweight='bold')\n",
    "        axes[idx].legend(fontsize=9)\n",
    "        axes[idx].grid(True, alpha=0.3)\n",
    "        \n",
    "        # Agregar estadísticas en el gráfico\n",
    "        textstr = f'Sesgo: {result[\"bias\"]:.4f}\\nError std: {result[\"std_error\"]:.4f}'\n",
    "        props = dict(boxstyle='round', facecolor='wheat', alpha=0.8)\n",
    "        axes[idx].text(0.02, 0.98, textstr, transform=axes[idx].transAxes, fontsize=9,\n",
    "                      verticalalignment='top', bbox=props)\n",
    "\n",
    "plt.suptitle('Distribuciones Bootstrap de Indicadores Macroeconómicos\\n(1000 réplicas bootstrap)', \n",
    "             fontsize=16, fontweight='bold')\n",
    "plt.tight_layout(rect=[0, 0.03, 1, 0.95])\n",
    "plt.show()"
   ]
  },
  {
   "cell_type": "markdown",
   "id": "aae2aefc-d115-4a50-b17c-5321527fd418",
   "metadata": {},
   "source": [
    "**5**"
   ]
  },
  {
   "cell_type": "markdown",
   "id": "e7e1080e-4691-4a78-b754-85a5b508886d",
   "metadata": {},
   "source": [
    "Analizando los datos, podemos concluir que son bastante similares entre sí, lo que confirma que ambos métodos son igual de válidos. Sin embargo, el bootstrapping es más confiable en este caso, ya que, este permite que la inferencia sea más creíble al analizar los distintos países y sus economías. Además, los resultados entregados por este método son más apegados a la realidad, simulando correctamente lo que pasaría si se repitiera la recolección de datos varias veces. El único caso donde la estimación clásica tiene ventaja es cuando los supuestos son totalmente acertados, permitiendo que el proceso sea más rápido en comparación con la estimación mediante bootstrap.\n",
    "\n",
    "**¿Existen diferencias relevantes?**\n",
    "No existen diferencias relevantes entre los resultados obtenidos en estimación puntual y Bootstrap , estas difieren en menos de  0.01 % en las medias y coincidencia en los intervalos de confianza.\n",
    "Esto sugiere que los estimadores son insesgados, consistentes y eficientes, incluso bajo violaciones de normalidad como vimos en el estimador puntual.\n",
    "La única diferencia fue en la Inflación donde el IC bootstrap es ligeramente más amplio debido a la asimetría positiva de su distribución, además de comfirmar el comportamiento volátil entre países.\n",
    "\n",
    "**¿Qué ventajas aporta el bootstrap en el contexto de su análisis y qué limitaciones pueden identificarse?**\n",
    "No depende de supuestos de normalidad, el bootstrap ofrece IC válidos sin asumir distribución normal, en nuestro caso al realizar test de Shapiro-Wilk rechazo normalidad.\n",
    "Evalúa el sesgo empírico al poder cuatificar estimadores puntuales tienden a sobre- o sub-estimar el valor real.\n",
    "Limitaciones:\n",
    "Alta demanda computacional al tener que repetir la muestra muchas veces.\n",
    "El bootstrap repite el sesgo si la muestra original no representa bien la población, generando dependencia.\n",
    "\n",
    "Por lo que en nuestro caso, fue una herramienta valiosa al comprobar que los estimadores son insesgados, consistentes y eficientes."
   ]
  },
  {
   "cell_type": "code",
   "execution_count": null,
   "id": "a805af5f-bb09-485f-952b-fc64c1363352",
   "metadata": {},
   "outputs": [],
   "source": []
  }
 ],
 "metadata": {
  "kernelspec": {
   "display_name": "Python 3 (ipykernel)",
   "language": "python",
   "name": "python3"
  },
  "language_info": {
   "codemirror_mode": {
    "name": "ipython",
    "version": 3
   },
   "file_extension": ".py",
   "mimetype": "text/x-python",
   "name": "python",
   "nbconvert_exporter": "python",
   "pygments_lexer": "ipython3",
   "version": "3.12.1"
  }
 },
 "nbformat": 4,
 "nbformat_minor": 5
}
